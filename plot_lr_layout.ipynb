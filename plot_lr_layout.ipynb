{
 "cells": [
  {
   "cell_type": "code",
   "execution_count": null,
   "id": "6ae33200",
   "metadata": {},
   "outputs": [],
   "source": [
    "%load_ext autoreload\n",
    "%autoreload 2"
   ]
  },
  {
   "cell_type": "code",
   "execution_count": null,
   "id": "57ba4caf",
   "metadata": {},
   "outputs": [],
   "source": [
    "import numpy as np\n",
    "import pandas as pd\n",
    "import matplotlib.pyplot as plt\n",
    "\n",
    "from utils.plotting import plot_parallel_coordinates, plot_top1_across_horizons\n",
    "from preprocess_data import deduplicate_and_aggregate"
   ]
  },
  {
   "cell_type": "markdown",
   "id": "c1beef31",
   "metadata": {},
   "source": [
    "### Preprocess"
   ]
  },
  {
   "cell_type": "code",
   "execution_count": null,
   "id": "165e6e18",
   "metadata": {},
   "outputs": [],
   "source": [
    "PREFIX = \"mass-scan-per-layer\"\n",
    "df = pd.read_csv(f\"data/{PREFIX}-base-momentum-1.0-preprocessed-seeds.csv\")\n",
    "df.columns"
   ]
  },
  {
   "cell_type": "code",
   "execution_count": null,
   "id": "bf03a295",
   "metadata": {},
   "outputs": [],
   "source": [
    "agg = deduplicate_and_aggregate(df)\n",
    "agg.columns"
   ]
  },
  {
   "cell_type": "code",
   "execution_count": null,
   "id": "cb895bd7",
   "metadata": {},
   "outputs": [],
   "source": [
    "agg.to_csv(f\"data/{PREFIX}-base-momentum-1.0-preprocessed-seeds-agg.csv\", index=False)"
   ]
  },
  {
   "cell_type": "markdown",
   "id": "c6f95052",
   "metadata": {},
   "source": [
    "### Plot"
   ]
  },
  {
   "cell_type": "code",
   "execution_count": null,
   "id": "a72f3b09",
   "metadata": {},
   "outputs": [],
   "source": [
    "# Plot overlayed histograms of train_loss_std for each BS value\n",
    "# Filter data where bs * step == 2**33\n",
    "target_product = 2**33 // 4096\n",
    "filtered_df = df[df['bs'] * df['step'] == target_product]\n",
    "\n",
    "bs_values = sorted(filtered_df['bs'].unique())\n",
    "colors = plt.cm.Set1(np.linspace(0, 1, len(bs_values)))\n",
    "\n",
    "# Calculate shared bin range across all BS values\n",
    "min_val = filtered_df['train_loss_std'].min()\n",
    "max_val = filtered_df['train_loss_std'].max()\n",
    "bins = np.linspace(min_val, max_val, 61)  # 61 bins with consistent width\n",
    "\n",
    "plt.figure(figsize=(10, 6))\n",
    "\n",
    "for i, bs in enumerate(bs_values):\n",
    "    subset = filtered_df[filtered_df['bs'] == bs]\n",
    "    plt.hist(subset['train_loss_std'], bins=bins, alpha=0.6, \n",
    "             label=f'bs = {bs}', color=colors[i], edgecolor='black', linewidth=0.5)\n",
    "    \n",
    "    # Add median line\n",
    "    median_val = subset['train_loss_std'].median()\n",
    "    plt.axvline(median_val, color=colors[i], linestyle='--', linewidth=2, \n",
    "                alpha=0.8, label=f'bs = {bs} median: {median_val:.4f}')\n",
    "\n",
    "plt.yscale('log')\n",
    "plt.xlabel('train_loss_std')\n",
    "plt.ylabel('Frequency')\n",
    "plt.title(f'Distribution of train_loss_std by Batch Size (bs × step = {target_product:e})')\n",
    "plt.legend()\n",
    "plt.grid(True, alpha=0.3)\n",
    "plt.tight_layout()\n",
    "plt.show()\n",
    "\n",
    "# Print info about filtered data\n",
    "print(f\"Original data: {len(df)} rows\")\n",
    "print(f\"Filtered data: {len(filtered_df)} rows\")\n",
    "print(f\"Batch sizes in filtered data: {sorted(filtered_df['bs'].unique())}\")"
   ]
  },
  {
   "cell_type": "code",
   "execution_count": null,
   "id": "c5d00c93",
   "metadata": {},
   "outputs": [],
   "source": [
    "# PREFIX = \"mass-scan-per-layer\"\n",
    "PREFIX = \"lr-bs-scan-per-layer\"\n",
    "csv_path = f\"data/{PREFIX}-base-momentum-1.0-preprocessed-seeds-agg.csv\"\n",
    "df = pd.read_csv(csv_path)"
   ]
  },
  {
   "cell_type": "code",
   "execution_count": null,
   "id": "8727db07",
   "metadata": {},
   "outputs": [],
   "source": [
    "# bs=32\n",
    "HORIZON = 2**33\n",
    "BS = 32\n",
    "LR_EXP_MIN = -11\n",
    "LR_EXP_MAX = -1"
   ]
  },
  {
   "cell_type": "code",
   "execution_count": null,
   "id": "6f2accef",
   "metadata": {},
   "outputs": [],
   "source": [
    "# bs=128\n",
    "HORIZON = 2**33\n",
    "BS = 128\n",
    "LR_EXP_MIN = -9\n",
    "LR_EXP_MAX = 1"
   ]
  },
  {
   "cell_type": "code",
   "execution_count": null,
   "id": "c6cfde61",
   "metadata": {},
   "outputs": [],
   "source": [
    "# bs=512\n",
    "HORIZON = 2**33\n",
    "BS = 512\n",
    "LR_EXP_MIN = -8\n",
    "LR_EXP_MAX = 2"
   ]
  },
  {
   "cell_type": "code",
   "execution_count": null,
   "id": "4e50e50e",
   "metadata": {},
   "outputs": [],
   "source": [
    "fig, ax = plot_parallel_coordinates(\n",
    "    df,\n",
    "    horizon=HORIZON,\n",
    "    bs=BS,\n",
    "    lr_exp_min=LR_EXP_MIN,\n",
    "    lr_exp_max=LR_EXP_MAX,\n",
    "    top_k=3,\n",
    "    figsize=(10, 6),\n",
    "    top_quantile_pct=10,\n",
    "    # opacity_levels=( 0.05, 0.05, 0.05, 0.05, 0.05, 0.05, 0.05, 0.05, 0.05, 1.0),\n",
    "    topk_opacity_levels=(1.0, 0.5, 0.5),\n",
    "    jitter_std=0.007,\n",
    ")\n",
    "# fig.savefig(f'plots/lr-layout-bs-{BS}-horizon-{HORIZON}.pdf')"
   ]
  },
  {
   "cell_type": "code",
   "execution_count": null,
   "id": "a3745642",
   "metadata": {},
   "outputs": [],
   "source": [
    "# bs=512\n",
    "HORIZONS = np.logspace(29, 35, 4, base=2)\n",
    "BS = 512\n",
    "LR_EXP_MIN = -7\n",
    "LR_EXP_MAX = 0"
   ]
  },
  {
   "cell_type": "code",
   "execution_count": null,
   "id": "0a569f3d",
   "metadata": {},
   "outputs": [],
   "source": [
    "fig, ax = plot_top1_across_horizons(\n",
    "    df,\n",
    "    horizons=HORIZONS,\n",
    "    bs=BS,\n",
    "    lr_exp_min=LR_EXP_MIN,\n",
    "    lr_exp_max=LR_EXP_MAX,\n",
    "    jitter_std=0.017,\n",
    "    jitter_nonbest_only=False,\n",
    "    rng_seed=7,\n",
    "    colors=[\"#440154\", \"#31688e\", \"#35b779\", \"#fde725\",],\n",
    ")\n",
    "# fig.savefig(f'plots/mass-scan-bs-{BS}.pdf')"
   ]
  },
  {
   "cell_type": "code",
   "execution_count": null,
   "id": "c8b1adea",
   "metadata": {},
   "outputs": [],
   "source": []
  }
 ],
 "metadata": {
  "kernelspec": {
   "display_name": "dev",
   "language": "python",
   "name": "dev"
  },
  "language_info": {
   "codemirror_mode": {
    "name": "ipython",
    "version": 3
   },
   "file_extension": ".py",
   "mimetype": "text/x-python",
   "name": "python",
   "nbconvert_exporter": "python",
   "pygments_lexer": "ipython3",
   "version": "3.13.5"
  }
 },
 "nbformat": 4,
 "nbformat_minor": 5
}
